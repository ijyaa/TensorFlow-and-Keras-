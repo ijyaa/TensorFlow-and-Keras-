{
 "cells": [
  {
   "cell_type": "code",
   "execution_count": 1,
   "metadata": {},
   "outputs": [
    {
     "name": "stderr",
     "output_type": "stream",
     "text": [
      "Using TensorFlow backend.\n"
     ]
    }
   ],
   "source": [
    "import tensorflow as tf\n",
    "import keras"
   ]
  },
  {
   "cell_type": "markdown",
   "metadata": {},
   "source": [
    "## Importing necessary libraries:\n",
    "\n",
    "- Image Data Generator\n",
    "- Import Sequential model \n",
    "- Import layers: Covolution, Pooling, Flatte and Dense \n",
    "- Import OS to import image files from directory "
   ]
  },
  {
   "cell_type": "code",
   "execution_count": 2,
   "metadata": {},
   "outputs": [],
   "source": [
    "from keras.preprocessing.image import ImageDataGenerator \n",
    "from keras.models import Sequential \n",
    "from keras.layers import Conv2D, MaxPooling2D \n",
    "from keras.layers import Activation, Dropout, Flatten, Dense \n",
    "from keras import backend as K "
   ]
  },
  {
   "cell_type": "code",
   "execution_count": 3,
   "metadata": {},
   "outputs": [],
   "source": [
    "import os"
   ]
  },
  {
   "cell_type": "code",
   "execution_count": 4,
   "metadata": {},
   "outputs": [
    {
     "name": "stdout",
     "output_type": "stream",
     "text": [
      "The current working directory is /Users/ijyapaudel/Desktop/Thinkful/Plotting \n"
     ]
    }
   ],
   "source": [
    "path = os.getcwd()\n",
    "print('The current working directory is %s' % path)"
   ]
  },
  {
   "cell_type": "code",
   "execution_count": 5,
   "metadata": {},
   "outputs": [],
   "source": [
    "model = Sequential()"
   ]
  },
  {
   "cell_type": "markdown",
   "metadata": {},
   "source": [
    "## Add Convolution to model:\n",
    "\n",
    "- First part is the filter sector (need to provide a dimension of the output)\n",
    "- Input Shape is the shape of the input \n",
    "- Activation is 'relu' which is rectified linear unit"
   ]
  },
  {
   "cell_type": "code",
   "execution_count": 6,
   "metadata": {},
   "outputs": [
    {
     "name": "stdout",
     "output_type": "stream",
     "text": [
      "WARNING:tensorflow:From /Library/Frameworks/Python.framework/Versions/3.7/lib/python3.7/site-packages/tensorflow/python/framework/op_def_library.py:263: colocate_with (from tensorflow.python.framework.ops) is deprecated and will be removed in a future version.\n",
      "Instructions for updating:\n",
      "Colocations handled automatically by placer.\n"
     ]
    },
    {
     "name": "stderr",
     "output_type": "stream",
     "text": [
      "/Library/Frameworks/Python.framework/Versions/3.7/lib/python3.7/site-packages/ipykernel_launcher.py:1: UserWarning: Update your `Conv2D` call to the Keras 2 API: `Conv2D(32, (3, 3), input_shape=(64, 64, 3..., activation=\"relu\")`\n",
      "  \"\"\"Entry point for launching an IPython kernel.\n"
     ]
    }
   ],
   "source": [
    "model.add(Conv2D(32, 3, 3, input_shape = (64, 64,3), activation = 'relu'))"
   ]
  },
  {
   "cell_type": "markdown",
   "metadata": {},
   "source": [
    "## Add max pooling to model:\n",
    "\n",
    "- Max pooling reduces overfitting (downsampling)\n",
    "- Only keeps important features \n"
   ]
  },
  {
   "cell_type": "code",
   "execution_count": 7,
   "metadata": {},
   "outputs": [],
   "source": [
    "model.add(MaxPooling2D(pool_size = (2,2)))"
   ]
  },
  {
   "cell_type": "markdown",
   "metadata": {},
   "source": [
    "## Add flattening to the model:\n",
    "\n",
    "- Matrix is converted to a linear array"
   ]
  },
  {
   "cell_type": "code",
   "execution_count": 8,
   "metadata": {},
   "outputs": [],
   "source": [
    "model.add(Flatten())"
   ]
  },
  {
   "cell_type": "markdown",
   "metadata": {},
   "source": [
    "## Add Dense layer to the model:\n",
    "\n",
    "- Output Dimension = randomly added number (not sure how to pick) \n",
    "- Activation picked \"relu\" and \"sigmoid\" \n",
    "- Relu = linear\n",
    "- Sigmoid = non-linear \n"
   ]
  },
  {
   "cell_type": "code",
   "execution_count": 9,
   "metadata": {},
   "outputs": [
    {
     "name": "stderr",
     "output_type": "stream",
     "text": [
      "/Library/Frameworks/Python.framework/Versions/3.7/lib/python3.7/site-packages/ipykernel_launcher.py:1: UserWarning: Update your `Dense` call to the Keras 2 API: `Dense(activation=\"relu\", units=128)`\n",
      "  \"\"\"Entry point for launching an IPython kernel.\n",
      "/Library/Frameworks/Python.framework/Versions/3.7/lib/python3.7/site-packages/ipykernel_launcher.py:2: UserWarning: Update your `Dense` call to the Keras 2 API: `Dense(activation=\"sigmoid\", units=1)`\n",
      "  \n"
     ]
    }
   ],
   "source": [
    "model.add(Dense(output_dim = 128, activation = 'relu'))\n",
    "model.add(Dense(output_dim = 1, activation = 'sigmoid'))"
   ]
  },
  {
   "cell_type": "markdown",
   "metadata": {},
   "source": [
    "## Compile:\n",
    "\n",
    "https://keras.io/metrics/ \n",
    "\n",
    "- SGD (Gradient Descent) \n",
    "- Loss (Mean Squared Error) \n",
    "- Metrics (Accuracy) "
   ]
  },
  {
   "cell_type": "code",
   "execution_count": 10,
   "metadata": {},
   "outputs": [],
   "source": [
    "model.compile(optimizer = 'sgd', loss = 'mean_squared_error', metrics = ['accuracy'])"
   ]
  },
  {
   "cell_type": "code",
   "execution_count": 11,
   "metadata": {},
   "outputs": [],
   "source": [
    "from keras.preprocessing.image import ImageDataGenerator"
   ]
  },
  {
   "cell_type": "code",
   "execution_count": 12,
   "metadata": {},
   "outputs": [
    {
     "name": "stdout",
     "output_type": "stream",
     "text": [
      "Found 400 images belonging to 2 classes.\n",
      "Found 100 images belonging to 2 classes.\n"
     ]
    }
   ],
   "source": [
    "train_datagen = ImageDataGenerator(\n",
    "                rescale = 1./255, \n",
    "                shear_range = 0.2,\n",
    "                zoom_range = 0.2,\n",
    "                horizontal_flip = True)\n",
    "\n",
    "test_datagen = ImageDataGenerator(rescale = 1./255)\n",
    "\n",
    "training_set = train_datagen.flow_from_directory('v_data/train',\n",
    "                                                target_size = (64,64),\n",
    "                                                batch_size = 32,\n",
    "                                                class_mode = 'binary')\n",
    "\n",
    "test_set = test_datagen.flow_from_directory('v_data/test',\n",
    "                                          target_size = (64,64),\n",
    "                                          batch_size = 32,\n",
    "                                          class_mode = 'binary')"
   ]
  },
  {
   "cell_type": "code",
   "execution_count": 13,
   "metadata": {},
   "outputs": [
    {
     "name": "stdout",
     "output_type": "stream",
     "text": [
      "WARNING:tensorflow:From /Library/Frameworks/Python.framework/Versions/3.7/lib/python3.7/site-packages/tensorflow/python/ops/math_ops.py:3066: to_int32 (from tensorflow.python.ops.math_ops) is deprecated and will be removed in a future version.\n",
      "Instructions for updating:\n",
      "Use tf.cast instead.\n",
      "Epoch 1/10\n",
      "300/300 [==============================] - 72s 239ms/step - loss: 0.1723 - acc: 0.7483 - val_loss: 0.1497 - val_acc: 0.7900\n",
      "Epoch 2/10\n",
      "300/300 [==============================] - 72s 242ms/step - loss: 0.1107 - acc: 0.8576 - val_loss: 0.1171 - val_acc: 0.8300\n",
      "Epoch 3/10\n",
      "300/300 [==============================] - 75s 249ms/step - loss: 0.0919 - acc: 0.8798 - val_loss: 0.1075 - val_acc: 0.8600\n",
      "Epoch 4/10\n",
      "300/300 [==============================] - 79s 265ms/step - loss: 0.0821 - acc: 0.8943 - val_loss: 0.1042 - val_acc: 0.8700\n",
      "Epoch 5/10\n",
      "300/300 [==============================] - 80s 268ms/step - loss: 0.0754 - acc: 0.9029 - val_loss: 0.1076 - val_acc: 0.8600\n",
      "Epoch 6/10\n",
      "300/300 [==============================] - 72s 241ms/step - loss: 0.0681 - acc: 0.9145 - val_loss: 0.1058 - val_acc: 0.8700\n",
      "Epoch 7/10\n",
      "300/300 [==============================] - 73s 244ms/step - loss: 0.0665 - acc: 0.9161 - val_loss: 0.1168 - val_acc: 0.8200\n",
      "Epoch 8/10\n",
      "300/300 [==============================] - 71s 238ms/step - loss: 0.0608 - acc: 0.9273 - val_loss: 0.1030 - val_acc: 0.8700\n",
      "Epoch 9/10\n",
      "300/300 [==============================] - 74s 246ms/step - loss: 0.0555 - acc: 0.9365 - val_loss: 0.1011 - val_acc: 0.8700\n",
      "Epoch 10/10\n",
      "300/300 [==============================] - 75s 250ms/step - loss: 0.0532 - acc: 0.9410 - val_loss: 0.1019 - val_acc: 0.8500\n"
     ]
    },
    {
     "data": {
      "text/plain": [
       "<keras.callbacks.History at 0x130da4860>"
      ]
     },
     "execution_count": 13,
     "metadata": {},
     "output_type": "execute_result"
    }
   ],
   "source": [
    "model.fit_generator(training_set, steps_per_epoch = 300, epochs = 10, validation_data = test_set, validation_steps = 200)"
   ]
  },
  {
   "cell_type": "code",
   "execution_count": null,
   "metadata": {},
   "outputs": [],
   "source": []
  }
 ],
 "metadata": {
  "kernelspec": {
   "display_name": "Python 3",
   "language": "python",
   "name": "python3"
  },
  "language_info": {
   "codemirror_mode": {
    "name": "ipython",
    "version": 3
   },
   "file_extension": ".py",
   "mimetype": "text/x-python",
   "name": "python",
   "nbconvert_exporter": "python",
   "pygments_lexer": "ipython3",
   "version": "3.7.1"
  }
 },
 "nbformat": 4,
 "nbformat_minor": 2
}
